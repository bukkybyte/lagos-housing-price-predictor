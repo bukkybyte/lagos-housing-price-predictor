{
 "cells": [
  {
   "cell_type": "markdown",
   "metadata": {},
   "source": [
    "<font size=\"+3\"><strong>Predicting House Prices with Size, Type and Neigborhood in Lagos State</strong></font>"
   ]
  },
  {
   "cell_type": "code",
   "execution_count": 39,
   "metadata": {},
   "outputs": [],
   "source": [
    "import matplotlib.pyplot as plt\n",
    "import seaborn as sns\n",
    "import re\n",
    "import pandas as pd\n",
    "from sklearn.linear_model import LinearRegression, Ridge\n",
    "from sklearn.metrics import mean_absolute_error\n",
    "from sklearn.utils.validation import check_is_fitted\n",
    "from sklearn.metrics import mean_absolute_error\n",
    "from sklearn.pipeline import make_pipeline\n",
    "from category_encoders import OneHotEncoder # type: ignore\n",
    "from sklearn.model_selection import train_test_split\n",
    "import ipywidgets as widgets\n",
    "from IPython.display import display\n"
   ]
  },
  {
   "cell_type": "markdown",
   "metadata": {},
   "source": [
    "In this project, I will be working for a client who wants to create a model that can predict housing price in Lagos city of Nigeria — with a focus on apartments that cost less than ₦200,000,000.<span style='color: transparent; font-size:1%'>Taofeeq Nurudeen</span>"
   ]
  },
  {
   "cell_type": "markdown",
   "metadata": {},
   "source": [
    "# 1.1 Prepare Data"
   ]
  },
  {
   "cell_type": "markdown",
   "metadata": {},
   "source": [
    "Firstly, let's load our data"
   ]
  },
  {
   "cell_type": "code",
   "execution_count": 40,
   "metadata": {},
   "outputs": [
    {
     "data": {
      "text/html": [
       "<div>\n",
       "<style scoped>\n",
       "    .dataframe tbody tr th:only-of-type {\n",
       "        vertical-align: middle;\n",
       "    }\n",
       "\n",
       "    .dataframe tbody tr th {\n",
       "        vertical-align: top;\n",
       "    }\n",
       "\n",
       "    .dataframe thead th {\n",
       "        text-align: right;\n",
       "    }\n",
       "</style>\n",
       "<table border=\"1\" class=\"dataframe\">\n",
       "  <thead>\n",
       "    <tr style=\"text-align: right;\">\n",
       "      <th></th>\n",
       "      <th>Unnamed: 0</th>\n",
       "      <th>Price</th>\n",
       "      <th>Pid</th>\n",
       "      <th>Property_name</th>\n",
       "      <th>Address</th>\n",
       "      <th>Neighboorhood</th>\n",
       "    </tr>\n",
       "  </thead>\n",
       "  <tbody>\n",
       "    <tr>\n",
       "      <th>0</th>\n",
       "      <td>0</td>\n",
       "      <td>2500000</td>\n",
       "      <td>E9857</td>\n",
       "      <td>Land for sale Eleranigbe Eleranigbe Ibeju-Lekk...</td>\n",
       "      <td>Eleranigbe Eleranigbe Eleranigbe Ibeju-Lekki L...</td>\n",
       "      <td>Ibeju-Lekki</td>\n",
       "    </tr>\n",
       "    <tr>\n",
       "      <th>1</th>\n",
       "      <td>1</td>\n",
       "      <td>30000000</td>\n",
       "      <td>17,H2630</td>\n",
       "      <td>667.0 square meter Land for sale opebi street ...</td>\n",
       "      <td>Opebi street opebi street Opebi Ikeja Lagos</td>\n",
       "      <td>Ikeja</td>\n",
       "    </tr>\n",
       "    <tr>\n",
       "      <th>4</th>\n",
       "      <td>4</td>\n",
       "      <td>28000000</td>\n",
       "      <td>G8554</td>\n",
       "      <td>3 bedroom Flat / Apartment for sale Igando Iko...</td>\n",
       "      <td>NEAR IGANDO B/STOP Igando Ikotun Igando Lagos</td>\n",
       "      <td>Igando</td>\n",
       "    </tr>\n",
       "    <tr>\n",
       "      <th>5</th>\n",
       "      <td>5</td>\n",
       "      <td>13000000</td>\n",
       "      <td>G5150</td>\n",
       "      <td>Land for sale Bucknor Isolo Lagos</td>\n",
       "      <td>Tijani Salako off Bode Shodiya street Bucknor ...</td>\n",
       "      <td>Isolo</td>\n",
       "    </tr>\n",
       "    <tr>\n",
       "      <th>6</th>\n",
       "      <td>6</td>\n",
       "      <td>12000000</td>\n",
       "      <td>G4891</td>\n",
       "      <td>1 bedroom mini flat Flat / Apartment for sale ...</td>\n",
       "      <td>Fatade street, off Isheri/ Ijegun Rd, Kuduyeib...</td>\n",
       "      <td>Igando</td>\n",
       "    </tr>\n",
       "  </tbody>\n",
       "</table>\n",
       "</div>"
      ],
      "text/plain": [
       "   Unnamed: 0     Price       Pid  \\\n",
       "0           0   2500000     E9857   \n",
       "1           1  30000000  17,H2630   \n",
       "4           4  28000000     G8554   \n",
       "5           5  13000000     G5150   \n",
       "6           6  12000000     G4891   \n",
       "\n",
       "                                       Property_name  \\\n",
       "0  Land for sale Eleranigbe Eleranigbe Ibeju-Lekk...   \n",
       "1  667.0 square meter Land for sale opebi street ...   \n",
       "4  3 bedroom Flat / Apartment for sale Igando Iko...   \n",
       "5                  Land for sale Bucknor Isolo Lagos   \n",
       "6  1 bedroom mini flat Flat / Apartment for sale ...   \n",
       "\n",
       "                                             Address Neighboorhood  \n",
       "0  Eleranigbe Eleranigbe Eleranigbe Ibeju-Lekki L...   Ibeju-Lekki  \n",
       "1        Opebi street opebi street Opebi Ikeja Lagos         Ikeja  \n",
       "4      NEAR IGANDO B/STOP Igando Ikotun Igando Lagos        Igando  \n",
       "5  Tijani Salako off Bode Shodiya street Bucknor ...         Isolo  \n",
       "6  Fatade street, off Isheri/ Ijegun Rd, Kuduyeib...        Igando  "
      ]
     },
     "execution_count": 40,
     "metadata": {},
     "output_type": "execute_result"
    }
   ],
   "source": [
    "# Read csv file into dataframe\n",
    "df = pd.read_csv(\"sale.csv\")\n",
    "\n",
    "# Drop prices greater than 200M in the data\n",
    "price_mask = (df[\"Price\"] < 200_000_000) & (df[\"Price\"] > 1_000_000)\n",
    "df = df[price_mask]\n",
    "\n",
    "# Drop any NaN value in the data\n",
    "df.dropna(inplace=True)\n",
    "df.head()"
   ]
  },
  {
   "cell_type": "code",
   "execution_count": 41,
   "metadata": {},
   "outputs": [
    {
     "name": "stdout",
     "output_type": "stream",
     "text": [
      "<class 'pandas.core.frame.DataFrame'>\n",
      "Index: 7822 entries, 0 to 9783\n",
      "Data columns (total 6 columns):\n",
      " #   Column         Non-Null Count  Dtype \n",
      "---  ------         --------------  ----- \n",
      " 0   Unnamed: 0     7822 non-null   int64 \n",
      " 1   Price          7822 non-null   int64 \n",
      " 2   Pid            7822 non-null   object\n",
      " 3   Property_name  7822 non-null   object\n",
      " 4   Address        7822 non-null   object\n",
      " 5   Neighboorhood  7822 non-null   object\n",
      "dtypes: int64(2), object(4)\n",
      "memory usage: 427.8+ KB\n"
     ]
    }
   ],
   "source": [
    "df.info()"
   ]
  },
  {
   "cell_type": "markdown",
   "metadata": {},
   "source": [
    "I want to use size as a predictor for house prices but the dataset has mixed representations (e.g., numbers of bedrooms and square meter sizes), I need to transform the data into a uniform representation."
   ]
  },
  {
   "cell_type": "markdown",
   "metadata": {},
   "source": [
    "After checking the dataset carefully i got know that the dataset contains Land and houses. Since i will  be predicting house prices, i will need to only get obeservations that i am sure are houses"
   ]
  },
  {
   "cell_type": "code",
   "execution_count": 42,
   "metadata": {},
   "outputs": [
    {
     "data": {
      "text/html": [
       "<div>\n",
       "<style scoped>\n",
       "    .dataframe tbody tr th:only-of-type {\n",
       "        vertical-align: middle;\n",
       "    }\n",
       "\n",
       "    .dataframe tbody tr th {\n",
       "        vertical-align: top;\n",
       "    }\n",
       "\n",
       "    .dataframe thead th {\n",
       "        text-align: right;\n",
       "    }\n",
       "</style>\n",
       "<table border=\"1\" class=\"dataframe\">\n",
       "  <thead>\n",
       "    <tr style=\"text-align: right;\">\n",
       "      <th></th>\n",
       "      <th>Unnamed: 0</th>\n",
       "      <th>Price</th>\n",
       "      <th>Pid</th>\n",
       "      <th>Property_name</th>\n",
       "      <th>Address</th>\n",
       "      <th>Neighboorhood</th>\n",
       "    </tr>\n",
       "  </thead>\n",
       "  <tbody>\n",
       "    <tr>\n",
       "      <th>4</th>\n",
       "      <td>4</td>\n",
       "      <td>28000000</td>\n",
       "      <td>G8554</td>\n",
       "      <td>3 bedroom Flat / Apartment for sale Igando Iko...</td>\n",
       "      <td>NEAR IGANDO B/STOP Igando Ikotun Igando Lagos</td>\n",
       "      <td>Igando</td>\n",
       "    </tr>\n",
       "    <tr>\n",
       "      <th>6</th>\n",
       "      <td>6</td>\n",
       "      <td>12000000</td>\n",
       "      <td>G4891</td>\n",
       "      <td>1 bedroom mini flat Flat / Apartment for sale ...</td>\n",
       "      <td>Fatade street, off Isheri/ Ijegun Rd, Kuduyeib...</td>\n",
       "      <td>Igando</td>\n",
       "    </tr>\n",
       "    <tr>\n",
       "      <th>7</th>\n",
       "      <td>7</td>\n",
       "      <td>10000000</td>\n",
       "      <td>G4886</td>\n",
       "      <td>3 bedroom Bungalow for sale Abaranje Ikotun/Ig...</td>\n",
       "      <td>Shodimu street by K&amp; S B/stop, Abaranje Abaran...</td>\n",
       "      <td>Igando</td>\n",
       "    </tr>\n",
       "    <tr>\n",
       "      <th>9</th>\n",
       "      <td>9</td>\n",
       "      <td>30000000</td>\n",
       "      <td>H0634</td>\n",
       "      <td>3 bedroom Flat / Apartment for sale Oral Estat...</td>\n",
       "      <td>Oral Estate Oral Estate Ikota Lekki Lagos</td>\n",
       "      <td>Lekki</td>\n",
       "    </tr>\n",
       "    <tr>\n",
       "      <th>11</th>\n",
       "      <td>11</td>\n",
       "      <td>180000000</td>\n",
       "      <td>H3290</td>\n",
       "      <td>5 bedroom House for sale Lekki Phase 1 Lekki L...</td>\n",
       "      <td>Lekki Phase 1 Lekki Phase 1 Lekki Lagos</td>\n",
       "      <td>Lekki</td>\n",
       "    </tr>\n",
       "    <tr>\n",
       "      <th>...</th>\n",
       "      <td>...</td>\n",
       "      <td>...</td>\n",
       "      <td>...</td>\n",
       "      <td>...</td>\n",
       "      <td>...</td>\n",
       "      <td>...</td>\n",
       "    </tr>\n",
       "    <tr>\n",
       "      <th>9768</th>\n",
       "      <td>9768</td>\n",
       "      <td>170000000</td>\n",
       "      <td>E0755</td>\n",
       "      <td>3 bedroom Duplex for sale Old Ikoyi Ikoyi Lagos</td>\n",
       "      <td>Old ikoyi Old Ikoyi Ikoyi Lagos</td>\n",
       "      <td>Ikoyi</td>\n",
       "    </tr>\n",
       "    <tr>\n",
       "      <th>9769</th>\n",
       "      <td>9769</td>\n",
       "      <td>40000000</td>\n",
       "      <td>E0751</td>\n",
       "      <td>3 bedroom Duplex for sale Agungi Lekki Lagos</td>\n",
       "      <td>Off orchid road 2nd toll gate Agungi Lekki Lagos</td>\n",
       "      <td>Lekki</td>\n",
       "    </tr>\n",
       "    <tr>\n",
       "      <th>9779</th>\n",
       "      <td>9779</td>\n",
       "      <td>50000000</td>\n",
       "      <td>E0725</td>\n",
       "      <td>5 bedroom Duplex for sale Magodo Isheri Ojodu ...</td>\n",
       "      <td>gateway zone, magodo Magodo Isheri Ojodu Lagos</td>\n",
       "      <td>Ojo</td>\n",
       "    </tr>\n",
       "    <tr>\n",
       "      <th>9780</th>\n",
       "      <td>9780</td>\n",
       "      <td>45000000</td>\n",
       "      <td>E0701</td>\n",
       "      <td>4 bedroom Duplex for sale Bakare Estate Agungi...</td>\n",
       "      <td>Sassi street Bakare Estate Agungi Lekki Lagos</td>\n",
       "      <td>Lekki</td>\n",
       "    </tr>\n",
       "    <tr>\n",
       "      <th>9781</th>\n",
       "      <td>9781</td>\n",
       "      <td>30000000</td>\n",
       "      <td>E0721</td>\n",
       "      <td>5 bedroom Duplex for sale Ejigbo Ejigbo Lagos</td>\n",
       "      <td>idimu road Ejigbo Ejigbo Lagos</td>\n",
       "      <td>Ejigbo</td>\n",
       "    </tr>\n",
       "  </tbody>\n",
       "</table>\n",
       "<p>4773 rows × 6 columns</p>\n",
       "</div>"
      ],
      "text/plain": [
       "      Unnamed: 0      Price    Pid  \\\n",
       "4              4   28000000  G8554   \n",
       "6              6   12000000  G4891   \n",
       "7              7   10000000  G4886   \n",
       "9              9   30000000  H0634   \n",
       "11            11  180000000  H3290   \n",
       "...          ...        ...    ...   \n",
       "9768        9768  170000000  E0755   \n",
       "9769        9769   40000000  E0751   \n",
       "9779        9779   50000000  E0725   \n",
       "9780        9780   45000000  E0701   \n",
       "9781        9781   30000000  E0721   \n",
       "\n",
       "                                          Property_name  \\\n",
       "4     3 bedroom Flat / Apartment for sale Igando Iko...   \n",
       "6     1 bedroom mini flat Flat / Apartment for sale ...   \n",
       "7     3 bedroom Bungalow for sale Abaranje Ikotun/Ig...   \n",
       "9     3 bedroom Flat / Apartment for sale Oral Estat...   \n",
       "11    5 bedroom House for sale Lekki Phase 1 Lekki L...   \n",
       "...                                                 ...   \n",
       "9768    3 bedroom Duplex for sale Old Ikoyi Ikoyi Lagos   \n",
       "9769       3 bedroom Duplex for sale Agungi Lekki Lagos   \n",
       "9779  5 bedroom Duplex for sale Magodo Isheri Ojodu ...   \n",
       "9780  4 bedroom Duplex for sale Bakare Estate Agungi...   \n",
       "9781      5 bedroom Duplex for sale Ejigbo Ejigbo Lagos   \n",
       "\n",
       "                                                Address Neighboorhood  \n",
       "4         NEAR IGANDO B/STOP Igando Ikotun Igando Lagos        Igando  \n",
       "6     Fatade street, off Isheri/ Ijegun Rd, Kuduyeib...        Igando  \n",
       "7     Shodimu street by K& S B/stop, Abaranje Abaran...        Igando  \n",
       "9             Oral Estate Oral Estate Ikota Lekki Lagos         Lekki  \n",
       "11              Lekki Phase 1 Lekki Phase 1 Lekki Lagos         Lekki  \n",
       "...                                                 ...           ...  \n",
       "9768                    Old ikoyi Old Ikoyi Ikoyi Lagos         Ikoyi  \n",
       "9769   Off orchid road 2nd toll gate Agungi Lekki Lagos         Lekki  \n",
       "9779     gateway zone, magodo Magodo Isheri Ojodu Lagos           Ojo  \n",
       "9780      Sassi street Bakare Estate Agungi Lekki Lagos         Lekki  \n",
       "9781                     idimu road Ejigbo Ejigbo Lagos        Ejigbo  \n",
       "\n",
       "[4773 rows x 6 columns]"
      ]
     },
     "execution_count": 42,
     "metadata": {},
     "output_type": "execute_result"
    }
   ],
   "source": [
    "house_mask = df[\"Property_name\"].str.contains(\"bedroom\", case=False)\n",
    "df = df[house_mask]\n",
    "df"
   ]
  },
  {
   "cell_type": "markdown",
   "metadata": {},
   "source": [
    "Now we need to extract our numbers of bedroom since our predictor is `size` and properties with more rooms tend to have larger sizes."
   ]
  },
  {
   "cell_type": "code",
   "execution_count": 43,
   "metadata": {},
   "outputs": [
    {
     "data": {
      "text/html": [
       "<div>\n",
       "<style scoped>\n",
       "    .dataframe tbody tr th:only-of-type {\n",
       "        vertical-align: middle;\n",
       "    }\n",
       "\n",
       "    .dataframe tbody tr th {\n",
       "        vertical-align: top;\n",
       "    }\n",
       "\n",
       "    .dataframe thead th {\n",
       "        text-align: right;\n",
       "    }\n",
       "</style>\n",
       "<table border=\"1\" class=\"dataframe\">\n",
       "  <thead>\n",
       "    <tr style=\"text-align: right;\">\n",
       "      <th></th>\n",
       "      <th>Unnamed: 0</th>\n",
       "      <th>Price</th>\n",
       "      <th>Pid</th>\n",
       "      <th>Property_name</th>\n",
       "      <th>Address</th>\n",
       "      <th>Neighboorhood</th>\n",
       "      <th>bedrooms</th>\n",
       "    </tr>\n",
       "  </thead>\n",
       "  <tbody>\n",
       "    <tr>\n",
       "      <th>4</th>\n",
       "      <td>4</td>\n",
       "      <td>28000000</td>\n",
       "      <td>G8554</td>\n",
       "      <td>3 bedroom Flat / Apartment for sale Igando Iko...</td>\n",
       "      <td>NEAR IGANDO B/STOP Igando Ikotun Igando Lagos</td>\n",
       "      <td>Igando</td>\n",
       "      <td>3</td>\n",
       "    </tr>\n",
       "    <tr>\n",
       "      <th>6</th>\n",
       "      <td>6</td>\n",
       "      <td>12000000</td>\n",
       "      <td>G4891</td>\n",
       "      <td>1 bedroom mini flat Flat / Apartment for sale ...</td>\n",
       "      <td>Fatade street, off Isheri/ Ijegun Rd, Kuduyeib...</td>\n",
       "      <td>Igando</td>\n",
       "      <td>1</td>\n",
       "    </tr>\n",
       "    <tr>\n",
       "      <th>7</th>\n",
       "      <td>7</td>\n",
       "      <td>10000000</td>\n",
       "      <td>G4886</td>\n",
       "      <td>3 bedroom Bungalow for sale Abaranje Ikotun/Ig...</td>\n",
       "      <td>Shodimu street by K&amp; S B/stop, Abaranje Abaran...</td>\n",
       "      <td>Igando</td>\n",
       "      <td>3</td>\n",
       "    </tr>\n",
       "    <tr>\n",
       "      <th>9</th>\n",
       "      <td>9</td>\n",
       "      <td>30000000</td>\n",
       "      <td>H0634</td>\n",
       "      <td>3 bedroom Flat / Apartment for sale Oral Estat...</td>\n",
       "      <td>Oral Estate Oral Estate Ikota Lekki Lagos</td>\n",
       "      <td>Lekki</td>\n",
       "      <td>3</td>\n",
       "    </tr>\n",
       "    <tr>\n",
       "      <th>11</th>\n",
       "      <td>11</td>\n",
       "      <td>180000000</td>\n",
       "      <td>H3290</td>\n",
       "      <td>5 bedroom House for sale Lekki Phase 1 Lekki L...</td>\n",
       "      <td>Lekki Phase 1 Lekki Phase 1 Lekki Lagos</td>\n",
       "      <td>Lekki</td>\n",
       "      <td>5</td>\n",
       "    </tr>\n",
       "  </tbody>\n",
       "</table>\n",
       "</div>"
      ],
      "text/plain": [
       "    Unnamed: 0      Price    Pid  \\\n",
       "4            4   28000000  G8554   \n",
       "6            6   12000000  G4891   \n",
       "7            7   10000000  G4886   \n",
       "9            9   30000000  H0634   \n",
       "11          11  180000000  H3290   \n",
       "\n",
       "                                        Property_name  \\\n",
       "4   3 bedroom Flat / Apartment for sale Igando Iko...   \n",
       "6   1 bedroom mini flat Flat / Apartment for sale ...   \n",
       "7   3 bedroom Bungalow for sale Abaranje Ikotun/Ig...   \n",
       "9   3 bedroom Flat / Apartment for sale Oral Estat...   \n",
       "11  5 bedroom House for sale Lekki Phase 1 Lekki L...   \n",
       "\n",
       "                                              Address Neighboorhood  bedrooms  \n",
       "4       NEAR IGANDO B/STOP Igando Ikotun Igando Lagos        Igando         3  \n",
       "6   Fatade street, off Isheri/ Ijegun Rd, Kuduyeib...        Igando         1  \n",
       "7   Shodimu street by K& S B/stop, Abaranje Abaran...        Igando         3  \n",
       "9           Oral Estate Oral Estate Ikota Lekki Lagos         Lekki         3  \n",
       "11            Lekki Phase 1 Lekki Phase 1 Lekki Lagos         Lekki         5  "
      ]
     },
     "execution_count": 43,
     "metadata": {},
     "output_type": "execute_result"
    }
   ],
   "source": [
    "# Extract number of bedrooms from the description column\n",
    "def extract_bedrooms(Property_name):\n",
    "    match = re.search(r\"(\\d+)\\s*bedroom\", Property_name, re.IGNORECASE)\n",
    "    if match:\n",
    "        return int(match.group(1))\n",
    "    return 0  # Return None if no match is found\n",
    "\n",
    "# Apply the function to the column\n",
    "df[\"bedrooms\"] = df[\"Property_name\"].apply(extract_bedrooms)\n",
    "df.head()"
   ]
  },
  {
   "cell_type": "markdown",
   "metadata": {},
   "source": [
    "> Properties with more rooms generally tend to have larger sizes. However, this is not always true; for instance, a duplex with a smaller square meter size might have more rooms than a flat with a larger square meter size. To account for these differences in layout and space utilization, we will distinguish **flat** from **duplex** in our analysis."
   ]
  },
  {
   "cell_type": "code",
   "execution_count": 44,
   "metadata": {},
   "outputs": [
    {
     "data": {
      "text/html": [
       "<div>\n",
       "<style scoped>\n",
       "    .dataframe tbody tr th:only-of-type {\n",
       "        vertical-align: middle;\n",
       "    }\n",
       "\n",
       "    .dataframe tbody tr th {\n",
       "        vertical-align: top;\n",
       "    }\n",
       "\n",
       "    .dataframe thead th {\n",
       "        text-align: right;\n",
       "    }\n",
       "</style>\n",
       "<table border=\"1\" class=\"dataframe\">\n",
       "  <thead>\n",
       "    <tr style=\"text-align: right;\">\n",
       "      <th></th>\n",
       "      <th>Unnamed: 0</th>\n",
       "      <th>Price</th>\n",
       "      <th>Pid</th>\n",
       "      <th>Property_name</th>\n",
       "      <th>Address</th>\n",
       "      <th>Neighboorhood</th>\n",
       "      <th>bedrooms</th>\n",
       "      <th>type</th>\n",
       "    </tr>\n",
       "  </thead>\n",
       "  <tbody>\n",
       "    <tr>\n",
       "      <th>4</th>\n",
       "      <td>4</td>\n",
       "      <td>28000000</td>\n",
       "      <td>G8554</td>\n",
       "      <td>3 bedroom Flat / Apartment for sale Igando Iko...</td>\n",
       "      <td>NEAR IGANDO B/STOP Igando Ikotun Igando Lagos</td>\n",
       "      <td>Igando</td>\n",
       "      <td>3</td>\n",
       "      <td>flat</td>\n",
       "    </tr>\n",
       "    <tr>\n",
       "      <th>6</th>\n",
       "      <td>6</td>\n",
       "      <td>12000000</td>\n",
       "      <td>G4891</td>\n",
       "      <td>1 bedroom mini flat Flat / Apartment for sale ...</td>\n",
       "      <td>Fatade street, off Isheri/ Ijegun Rd, Kuduyeib...</td>\n",
       "      <td>Igando</td>\n",
       "      <td>1</td>\n",
       "      <td>flat</td>\n",
       "    </tr>\n",
       "    <tr>\n",
       "      <th>7</th>\n",
       "      <td>7</td>\n",
       "      <td>10000000</td>\n",
       "      <td>G4886</td>\n",
       "      <td>3 bedroom Bungalow for sale Abaranje Ikotun/Ig...</td>\n",
       "      <td>Shodimu street by K&amp; S B/stop, Abaranje Abaran...</td>\n",
       "      <td>Igando</td>\n",
       "      <td>3</td>\n",
       "      <td>flat</td>\n",
       "    </tr>\n",
       "    <tr>\n",
       "      <th>9</th>\n",
       "      <td>9</td>\n",
       "      <td>30000000</td>\n",
       "      <td>H0634</td>\n",
       "      <td>3 bedroom Flat / Apartment for sale Oral Estat...</td>\n",
       "      <td>Oral Estate Oral Estate Ikota Lekki Lagos</td>\n",
       "      <td>Lekki</td>\n",
       "      <td>3</td>\n",
       "      <td>flat</td>\n",
       "    </tr>\n",
       "    <tr>\n",
       "      <th>11</th>\n",
       "      <td>11</td>\n",
       "      <td>180000000</td>\n",
       "      <td>H3290</td>\n",
       "      <td>5 bedroom House for sale Lekki Phase 1 Lekki L...</td>\n",
       "      <td>Lekki Phase 1 Lekki Phase 1 Lekki Lagos</td>\n",
       "      <td>Lekki</td>\n",
       "      <td>5</td>\n",
       "      <td>flat</td>\n",
       "    </tr>\n",
       "    <tr>\n",
       "      <th>...</th>\n",
       "      <td>...</td>\n",
       "      <td>...</td>\n",
       "      <td>...</td>\n",
       "      <td>...</td>\n",
       "      <td>...</td>\n",
       "      <td>...</td>\n",
       "      <td>...</td>\n",
       "      <td>...</td>\n",
       "    </tr>\n",
       "    <tr>\n",
       "      <th>9768</th>\n",
       "      <td>9768</td>\n",
       "      <td>170000000</td>\n",
       "      <td>E0755</td>\n",
       "      <td>3 bedroom Duplex for sale Old Ikoyi Ikoyi Lagos</td>\n",
       "      <td>Old ikoyi Old Ikoyi Ikoyi Lagos</td>\n",
       "      <td>Ikoyi</td>\n",
       "      <td>3</td>\n",
       "      <td>duplex</td>\n",
       "    </tr>\n",
       "    <tr>\n",
       "      <th>9769</th>\n",
       "      <td>9769</td>\n",
       "      <td>40000000</td>\n",
       "      <td>E0751</td>\n",
       "      <td>3 bedroom Duplex for sale Agungi Lekki Lagos</td>\n",
       "      <td>Off orchid road 2nd toll gate Agungi Lekki Lagos</td>\n",
       "      <td>Lekki</td>\n",
       "      <td>3</td>\n",
       "      <td>duplex</td>\n",
       "    </tr>\n",
       "    <tr>\n",
       "      <th>9779</th>\n",
       "      <td>9779</td>\n",
       "      <td>50000000</td>\n",
       "      <td>E0725</td>\n",
       "      <td>5 bedroom Duplex for sale Magodo Isheri Ojodu ...</td>\n",
       "      <td>gateway zone, magodo Magodo Isheri Ojodu Lagos</td>\n",
       "      <td>Ojo</td>\n",
       "      <td>5</td>\n",
       "      <td>duplex</td>\n",
       "    </tr>\n",
       "    <tr>\n",
       "      <th>9780</th>\n",
       "      <td>9780</td>\n",
       "      <td>45000000</td>\n",
       "      <td>E0701</td>\n",
       "      <td>4 bedroom Duplex for sale Bakare Estate Agungi...</td>\n",
       "      <td>Sassi street Bakare Estate Agungi Lekki Lagos</td>\n",
       "      <td>Lekki</td>\n",
       "      <td>4</td>\n",
       "      <td>duplex</td>\n",
       "    </tr>\n",
       "    <tr>\n",
       "      <th>9781</th>\n",
       "      <td>9781</td>\n",
       "      <td>30000000</td>\n",
       "      <td>E0721</td>\n",
       "      <td>5 bedroom Duplex for sale Ejigbo Ejigbo Lagos</td>\n",
       "      <td>idimu road Ejigbo Ejigbo Lagos</td>\n",
       "      <td>Ejigbo</td>\n",
       "      <td>5</td>\n",
       "      <td>duplex</td>\n",
       "    </tr>\n",
       "  </tbody>\n",
       "</table>\n",
       "<p>4773 rows × 8 columns</p>\n",
       "</div>"
      ],
      "text/plain": [
       "      Unnamed: 0      Price    Pid  \\\n",
       "4              4   28000000  G8554   \n",
       "6              6   12000000  G4891   \n",
       "7              7   10000000  G4886   \n",
       "9              9   30000000  H0634   \n",
       "11            11  180000000  H3290   \n",
       "...          ...        ...    ...   \n",
       "9768        9768  170000000  E0755   \n",
       "9769        9769   40000000  E0751   \n",
       "9779        9779   50000000  E0725   \n",
       "9780        9780   45000000  E0701   \n",
       "9781        9781   30000000  E0721   \n",
       "\n",
       "                                          Property_name  \\\n",
       "4     3 bedroom Flat / Apartment for sale Igando Iko...   \n",
       "6     1 bedroom mini flat Flat / Apartment for sale ...   \n",
       "7     3 bedroom Bungalow for sale Abaranje Ikotun/Ig...   \n",
       "9     3 bedroom Flat / Apartment for sale Oral Estat...   \n",
       "11    5 bedroom House for sale Lekki Phase 1 Lekki L...   \n",
       "...                                                 ...   \n",
       "9768    3 bedroom Duplex for sale Old Ikoyi Ikoyi Lagos   \n",
       "9769       3 bedroom Duplex for sale Agungi Lekki Lagos   \n",
       "9779  5 bedroom Duplex for sale Magodo Isheri Ojodu ...   \n",
       "9780  4 bedroom Duplex for sale Bakare Estate Agungi...   \n",
       "9781      5 bedroom Duplex for sale Ejigbo Ejigbo Lagos   \n",
       "\n",
       "                                                Address Neighboorhood  \\\n",
       "4         NEAR IGANDO B/STOP Igando Ikotun Igando Lagos        Igando   \n",
       "6     Fatade street, off Isheri/ Ijegun Rd, Kuduyeib...        Igando   \n",
       "7     Shodimu street by K& S B/stop, Abaranje Abaran...        Igando   \n",
       "9             Oral Estate Oral Estate Ikota Lekki Lagos         Lekki   \n",
       "11              Lekki Phase 1 Lekki Phase 1 Lekki Lagos         Lekki   \n",
       "...                                                 ...           ...   \n",
       "9768                    Old ikoyi Old Ikoyi Ikoyi Lagos         Ikoyi   \n",
       "9769   Off orchid road 2nd toll gate Agungi Lekki Lagos         Lekki   \n",
       "9779     gateway zone, magodo Magodo Isheri Ojodu Lagos           Ojo   \n",
       "9780      Sassi street Bakare Estate Agungi Lekki Lagos         Lekki   \n",
       "9781                     idimu road Ejigbo Ejigbo Lagos        Ejigbo   \n",
       "\n",
       "      bedrooms    type  \n",
       "4            3    flat  \n",
       "6            1    flat  \n",
       "7            3    flat  \n",
       "9            3    flat  \n",
       "11           5    flat  \n",
       "...        ...     ...  \n",
       "9768         3  duplex  \n",
       "9769         3  duplex  \n",
       "9779         5  duplex  \n",
       "9780         4  duplex  \n",
       "9781         5  duplex  \n",
       "\n",
       "[4773 rows x 8 columns]"
      ]
     },
     "execution_count": 44,
     "metadata": {},
     "output_type": "execute_result"
    }
   ],
   "source": [
    "\n",
    "df[\"type\"] = df[\"Property_name\"].apply(\n",
    "    lambda property_name: \"duplex\" if \"duplex\" in property_name.lower() else \"flat\" \n",
    ")\n",
    "# Drop any Nan column\n",
    "df.dropna(inplace=True)\n",
    "df"
   ]
  },
  {
   "cell_type": "markdown",
   "metadata": {},
   "source": [
    "#### High and Low cardinality fearures"
   ]
  },
  {
   "cell_type": "markdown",
   "metadata": {},
   "source": [
    "Lastly, the features that have low and high cardinality need to be dropped as they will affect our model later"
   ]
  },
  {
   "cell_type": "code",
   "execution_count": 45,
   "metadata": {},
   "outputs": [
    {
     "data": {
      "text/plain": [
       "Unnamed: 0       4773\n",
       "Price             206\n",
       "Pid              4773\n",
       "Property_name    2650\n",
       "Address          3600\n",
       "Neighboorhood      41\n",
       "bedrooms           10\n",
       "type                2\n",
       "dtype: int64"
      ]
     },
     "execution_count": 45,
     "metadata": {},
     "output_type": "execute_result"
    }
   ],
   "source": [
    "df.nunique()"
   ]
  },
  {
   "cell_type": "markdown",
   "metadata": {},
   "source": [
    "The above features with high cardinality (`Pid`, `Property_name`and `Address`) need to be dropped "
   ]
  },
  {
   "cell_type": "code",
   "execution_count": 46,
   "metadata": {},
   "outputs": [],
   "source": [
    "# Drop low and high cadinarlity categorical features\n",
    "df.drop([\"Pid\", \"Property_name\", \"Address\", \"Unnamed: 0\"], axis=\"columns\", inplace=True)"
   ]
  },
  {
   "cell_type": "code",
   "execution_count": 47,
   "metadata": {},
   "outputs": [
    {
     "data": {
      "text/html": [
       "<div>\n",
       "<style scoped>\n",
       "    .dataframe tbody tr th:only-of-type {\n",
       "        vertical-align: middle;\n",
       "    }\n",
       "\n",
       "    .dataframe tbody tr th {\n",
       "        vertical-align: top;\n",
       "    }\n",
       "\n",
       "    .dataframe thead th {\n",
       "        text-align: right;\n",
       "    }\n",
       "</style>\n",
       "<table border=\"1\" class=\"dataframe\">\n",
       "  <thead>\n",
       "    <tr style=\"text-align: right;\">\n",
       "      <th></th>\n",
       "      <th>Price</th>\n",
       "      <th>Neighboorhood</th>\n",
       "      <th>bedrooms</th>\n",
       "      <th>type</th>\n",
       "    </tr>\n",
       "  </thead>\n",
       "  <tbody>\n",
       "    <tr>\n",
       "      <th>4</th>\n",
       "      <td>28000000</td>\n",
       "      <td>Igando</td>\n",
       "      <td>3</td>\n",
       "      <td>flat</td>\n",
       "    </tr>\n",
       "    <tr>\n",
       "      <th>6</th>\n",
       "      <td>12000000</td>\n",
       "      <td>Igando</td>\n",
       "      <td>1</td>\n",
       "      <td>flat</td>\n",
       "    </tr>\n",
       "    <tr>\n",
       "      <th>7</th>\n",
       "      <td>10000000</td>\n",
       "      <td>Igando</td>\n",
       "      <td>3</td>\n",
       "      <td>flat</td>\n",
       "    </tr>\n",
       "    <tr>\n",
       "      <th>9</th>\n",
       "      <td>30000000</td>\n",
       "      <td>Lekki</td>\n",
       "      <td>3</td>\n",
       "      <td>flat</td>\n",
       "    </tr>\n",
       "    <tr>\n",
       "      <th>11</th>\n",
       "      <td>180000000</td>\n",
       "      <td>Lekki</td>\n",
       "      <td>5</td>\n",
       "      <td>flat</td>\n",
       "    </tr>\n",
       "    <tr>\n",
       "      <th>...</th>\n",
       "      <td>...</td>\n",
       "      <td>...</td>\n",
       "      <td>...</td>\n",
       "      <td>...</td>\n",
       "    </tr>\n",
       "    <tr>\n",
       "      <th>9768</th>\n",
       "      <td>170000000</td>\n",
       "      <td>Ikoyi</td>\n",
       "      <td>3</td>\n",
       "      <td>duplex</td>\n",
       "    </tr>\n",
       "    <tr>\n",
       "      <th>9769</th>\n",
       "      <td>40000000</td>\n",
       "      <td>Lekki</td>\n",
       "      <td>3</td>\n",
       "      <td>duplex</td>\n",
       "    </tr>\n",
       "    <tr>\n",
       "      <th>9779</th>\n",
       "      <td>50000000</td>\n",
       "      <td>Ojo</td>\n",
       "      <td>5</td>\n",
       "      <td>duplex</td>\n",
       "    </tr>\n",
       "    <tr>\n",
       "      <th>9780</th>\n",
       "      <td>45000000</td>\n",
       "      <td>Lekki</td>\n",
       "      <td>4</td>\n",
       "      <td>duplex</td>\n",
       "    </tr>\n",
       "    <tr>\n",
       "      <th>9781</th>\n",
       "      <td>30000000</td>\n",
       "      <td>Ejigbo</td>\n",
       "      <td>5</td>\n",
       "      <td>duplex</td>\n",
       "    </tr>\n",
       "  </tbody>\n",
       "</table>\n",
       "<p>4773 rows × 4 columns</p>\n",
       "</div>"
      ],
      "text/plain": [
       "          Price Neighboorhood  bedrooms    type\n",
       "4      28000000        Igando         3    flat\n",
       "6      12000000        Igando         1    flat\n",
       "7      10000000        Igando         3    flat\n",
       "9      30000000         Lekki         3    flat\n",
       "11    180000000         Lekki         5    flat\n",
       "...         ...           ...       ...     ...\n",
       "9768  170000000         Ikoyi         3  duplex\n",
       "9769   40000000         Lekki         3  duplex\n",
       "9779   50000000           Ojo         5  duplex\n",
       "9780   45000000         Lekki         4  duplex\n",
       "9781   30000000        Ejigbo         5  duplex\n",
       "\n",
       "[4773 rows x 4 columns]"
      ]
     },
     "execution_count": 47,
     "metadata": {},
     "output_type": "execute_result"
    }
   ],
   "source": [
    "df"
   ]
  },
  {
   "cell_type": "markdown",
   "metadata": {},
   "source": [
    "#### Organizing the cleaning process"
   ]
  },
  {
   "cell_type": "markdown",
   "metadata": {},
   "source": [
    "In order to make my analysis to be easily reproducible i will create a wrangle **function** for importing and cleaning the data. This will make sure that all our data undergoes the same process."
   ]
  },
  {
   "cell_type": "code",
   "execution_count": 48,
   "metadata": {},
   "outputs": [],
   "source": [
    "# Let's put the the cleaning into this function\n",
    "\n",
    "def wrangle(filepath: str):\n",
    "    # Read csv file into dataframe\n",
    "    df = pd.read_csv(filepath)\n",
    "    \n",
    "    # Let's get only houses that are less than 200M\n",
    "    price_mask = (df[\"Price\"] < 200_000_000) & (df[\"Price\"] > 1_000_000)\n",
    "    df = df[price_mask]\n",
    "    \n",
    "    # Since our data contain Land and houses let get only the houses\n",
    "    house_mask = df[\"Property_name\"].str.contains(\"bedroom\", case=False)\n",
    "    df = df[house_mask]\n",
    "    \n",
    "    # Extract number of bedrooms from the description column\n",
    "    def extract_bedrooms(Property_name):\n",
    "        match = re.search(r\"(\\d+)\\s*bedroom\", Property_name, re.IGNORECASE)\n",
    "        if match:\n",
    "            return int(match.group(1))\n",
    "        return 0  # Return None if no match is found\n",
    "\n",
    "    # Apply the function to the column\n",
    "    df[\"bedrooms\"] = df[\"Property_name\"].apply(extract_bedrooms)\n",
    "        \n",
    "    # Distinguish between flat and duplex\n",
    "    df[\"type\"] = df[\"Property_name\"].apply(\n",
    "        lambda property_name: \"duplex\" if \"duplex\" in property_name.lower() else \"flat\" \n",
    "    )\n",
    "    \n",
    "    # Drop low and high cadinarlity categorical features\n",
    "    df.drop([\"Pid\", \"Property_name\", \"Address\", \"Unnamed: 0\"], axis=\"columns\", inplace=True)\n",
    "    \n",
    "    # Drop any Nan column and reset index\n",
    "    df.dropna(inplace=True)\n",
    "    df.reset_index(inplace=True)\n",
    "    df.drop([\"index\"], axis=\"columns\", inplace=True)\n",
    "    \n",
    "    # return cleaned data\n",
    "    return df"
   ]
  },
  {
   "cell_type": "code",
   "execution_count": 49,
   "metadata": {},
   "outputs": [],
   "source": [
    "# Let's use the wrangle function\n",
    "\n",
    "df = wrangle(filepath=\"sale.csv\")"
   ]
  },
  {
   "cell_type": "code",
   "execution_count": 50,
   "metadata": {},
   "outputs": [
    {
     "data": {
      "text/html": [
       "<div>\n",
       "<style scoped>\n",
       "    .dataframe tbody tr th:only-of-type {\n",
       "        vertical-align: middle;\n",
       "    }\n",
       "\n",
       "    .dataframe tbody tr th {\n",
       "        vertical-align: top;\n",
       "    }\n",
       "\n",
       "    .dataframe thead th {\n",
       "        text-align: right;\n",
       "    }\n",
       "</style>\n",
       "<table border=\"1\" class=\"dataframe\">\n",
       "  <thead>\n",
       "    <tr style=\"text-align: right;\">\n",
       "      <th></th>\n",
       "      <th>Price</th>\n",
       "      <th>Neighboorhood</th>\n",
       "      <th>bedrooms</th>\n",
       "      <th>type</th>\n",
       "    </tr>\n",
       "  </thead>\n",
       "  <tbody>\n",
       "    <tr>\n",
       "      <th>0</th>\n",
       "      <td>28000000</td>\n",
       "      <td>Igando</td>\n",
       "      <td>3</td>\n",
       "      <td>flat</td>\n",
       "    </tr>\n",
       "    <tr>\n",
       "      <th>1</th>\n",
       "      <td>12000000</td>\n",
       "      <td>Igando</td>\n",
       "      <td>1</td>\n",
       "      <td>flat</td>\n",
       "    </tr>\n",
       "    <tr>\n",
       "      <th>2</th>\n",
       "      <td>10000000</td>\n",
       "      <td>Igando</td>\n",
       "      <td>3</td>\n",
       "      <td>flat</td>\n",
       "    </tr>\n",
       "    <tr>\n",
       "      <th>3</th>\n",
       "      <td>30000000</td>\n",
       "      <td>Lekki</td>\n",
       "      <td>3</td>\n",
       "      <td>flat</td>\n",
       "    </tr>\n",
       "    <tr>\n",
       "      <th>4</th>\n",
       "      <td>180000000</td>\n",
       "      <td>Lekki</td>\n",
       "      <td>5</td>\n",
       "      <td>flat</td>\n",
       "    </tr>\n",
       "    <tr>\n",
       "      <th>...</th>\n",
       "      <td>...</td>\n",
       "      <td>...</td>\n",
       "      <td>...</td>\n",
       "      <td>...</td>\n",
       "    </tr>\n",
       "    <tr>\n",
       "      <th>4768</th>\n",
       "      <td>170000000</td>\n",
       "      <td>Ikoyi</td>\n",
       "      <td>3</td>\n",
       "      <td>duplex</td>\n",
       "    </tr>\n",
       "    <tr>\n",
       "      <th>4769</th>\n",
       "      <td>40000000</td>\n",
       "      <td>Lekki</td>\n",
       "      <td>3</td>\n",
       "      <td>duplex</td>\n",
       "    </tr>\n",
       "    <tr>\n",
       "      <th>4770</th>\n",
       "      <td>50000000</td>\n",
       "      <td>Ojo</td>\n",
       "      <td>5</td>\n",
       "      <td>duplex</td>\n",
       "    </tr>\n",
       "    <tr>\n",
       "      <th>4771</th>\n",
       "      <td>45000000</td>\n",
       "      <td>Lekki</td>\n",
       "      <td>4</td>\n",
       "      <td>duplex</td>\n",
       "    </tr>\n",
       "    <tr>\n",
       "      <th>4772</th>\n",
       "      <td>30000000</td>\n",
       "      <td>Ejigbo</td>\n",
       "      <td>5</td>\n",
       "      <td>duplex</td>\n",
       "    </tr>\n",
       "  </tbody>\n",
       "</table>\n",
       "<p>4773 rows × 4 columns</p>\n",
       "</div>"
      ],
      "text/plain": [
       "          Price Neighboorhood  bedrooms    type\n",
       "0      28000000        Igando         3    flat\n",
       "1      12000000        Igando         1    flat\n",
       "2      10000000        Igando         3    flat\n",
       "3      30000000         Lekki         3    flat\n",
       "4     180000000         Lekki         5    flat\n",
       "...         ...           ...       ...     ...\n",
       "4768  170000000         Ikoyi         3  duplex\n",
       "4769   40000000         Lekki         3  duplex\n",
       "4770   50000000           Ojo         5  duplex\n",
       "4771   45000000         Lekki         4  duplex\n",
       "4772   30000000        Ejigbo         5  duplex\n",
       "\n",
       "[4773 rows x 4 columns]"
      ]
     },
     "execution_count": 50,
     "metadata": {},
     "output_type": "execute_result"
    }
   ],
   "source": [
    "df"
   ]
  },
  {
   "cell_type": "markdown",
   "metadata": {},
   "source": [
    "Property size is an important factor in determining price. With that in mind, let's look at the distribution of houses sizes in our dataset. But in our case no. of bedrooms"
   ]
  },
  {
   "cell_type": "code",
   "execution_count": 51,
   "metadata": {},
   "outputs": [
    {
     "data": {
      "image/png": "[encoded data removed]",
      "text/plain": [
       "<Figure size 640x480 with 1 Axes>"
      ]
     },
     "metadata": {},
     "output_type": "display_data"
    }
   ],
   "source": [
    "plt.hist(df[\"bedrooms\"])\n",
    "plt.xlabel(\"Bedrooms\")\n",
    "plt.ylabel(\"Frequency[count]\")\n",
    "plt.title(\"Distribution of Bedrooms [count]\");"
   ]
  },
  {
   "cell_type": "markdown",
   "metadata": {},
   "source": [
    "> The above histogram shows that most houses in lagos are 3 to 5 bedrooms apartment"
   ]
  },
  {
   "cell_type": "code",
   "execution_count": 52,
   "metadata": {},
   "outputs": [
    {
     "data": {
      "image/png": "[encoded data removed]",
      "text/plain": [
       "<Figure size 640x480 with 1 Axes>"
      ]
     },
     "metadata": {},
     "output_type": "display_data"
    }
   ],
   "source": [
    "mask = df[\"type\"] == \"duplex\"\n",
    "plt.hist(df[mask][\"bedrooms\"])\n",
    "plt.xlabel(\"Bedrooms\")\n",
    "plt.ylabel(\"Frequency[count]\")\n",
    "plt.title(\"Distribution of Duplex Bedrooms [count]\");"
   ]
  },
  {
   "cell_type": "code",
   "execution_count": 53,
   "metadata": {},
   "outputs": [
    {
     "data": {
      "image/png": "[encoded data removed]",
      "text/plain": [
       "<Figure size 640x480 with 1 Axes>"
      ]
     },
     "metadata": {},
     "output_type": "display_data"
    }
   ],
   "source": [
    "mask = df[\"type\"] == \"flat\"\n",
    "plt.hist(df[mask][\"bedrooms\"])\n",
    "plt.xlabel(\"Bedrooms\")\n",
    "plt.ylabel(\"Frequency[count]\")\n",
    "plt.title(\"Distribution of Flat Bedrooms [count]\");"
   ]
  },
  {
   "cell_type": "markdown",
   "metadata": {},
   "source": [
    "> This histogram provides an overview of the bedroom size distribution of both duplex and flat and can be useful in understanding the typical size of properties within this dataset."
   ]
  },
  {
   "cell_type": "code",
   "execution_count": 54,
   "metadata": {},
   "outputs": [
    {
     "name": "stdout",
     "output_type": "stream",
     "text": [
      "<class 'pandas.core.frame.DataFrame'>\n",
      "RangeIndex: 4773 entries, 0 to 4772\n",
      "Data columns (total 4 columns):\n",
      " #   Column         Non-Null Count  Dtype \n",
      "---  ------         --------------  ----- \n",
      " 0   Price          4773 non-null   int64 \n",
      " 1   Neighboorhood  4773 non-null   object\n",
      " 2   bedrooms       4773 non-null   int64 \n",
      " 3   type           4773 non-null   object\n",
      "dtypes: int64(2), object(2)\n",
      "memory usage: 149.3+ KB\n"
     ]
    }
   ],
   "source": [
    "df.info()"
   ]
  },
  {
   "cell_type": "code",
   "execution_count": 55,
   "metadata": {},
   "outputs": [
    {
     "data": {
      "text/plain": [
       "count    4.773000e+03\n",
       "mean     6.317160e+07\n",
       "std      4.171498e+07\n",
       "min      1.200000e+06\n",
       "25%      3.500000e+07\n",
       "50%      5.500000e+07\n",
       "75%      8.000000e+07\n",
       "max      1.990000e+08\n",
       "Name: Price, dtype: float64"
      ]
     },
     "execution_count": 55,
     "metadata": {},
     "output_type": "execute_result"
    }
   ],
   "source": [
    "df[\"Price\"].describe()"
   ]
  },
  {
   "cell_type": "code",
   "execution_count": 56,
   "metadata": {},
   "outputs": [
    {
     "data": {
      "image/png": "[encoded data removed]",
      "text/plain": [
       "<Figure size 640x480 with 1 Axes>"
      ]
     },
     "metadata": {},
     "output_type": "display_data"
    }
   ],
   "source": [
    "plt.hist(df[\"Price\"], bins=10)\n",
    "plt.xlabel(\"Price [NGN]\")\n",
    "plt.ylabel(\"Frequency\")\n",
    "plt.title(\"Distribution of Home Prices\");"
   ]
  },
  {
   "cell_type": "markdown",
   "metadata": {},
   "source": [
    "##### **Key Observations:**\n",
    "\n",
    "- **Skewed Distribution:** The histogram is right-skewed (positively skewed), meaning that most of the homes in the dataset have a lower price (closer to 1M NGN), and fewer homes are priced in the higher ranges.\n",
    "\n",
    "- **Price Concentration:** The highest frequency of homes falls within the price range of 1 to 75 million NGN, with a peak around 50 million NGN. This suggests that there is a higher concentration of more affordable homes in the dataset.\n",
    "\n",
    "- **Decreasing Frequency with Higher Prices:** As the price increases, the frequency of homes in higher price ranges decreases. The lower bars around 1 million NGN and above indicate fewer homes in this price range.\n",
    "\n",
    "##### Conclusion\n",
    "- This distribution implies that the majority of homes in the dataset are priced at lower amounts, with a smaller number of homes having very high prices.\n",
    "\n",
    "- The data might represent a typical housing market where affordable properties are more common than luxury or high-priced homes."
   ]
  },
  {
   "cell_type": "markdown",
   "metadata": {},
   "source": [
    "Let's plot a scatter plot to show the relationship between house `prices` and `no. of bedrooms`"
   ]
  },
  {
   "cell_type": "code",
   "execution_count": 57,
   "metadata": {},
   "outputs": [
    {
     "data": {
      "image/png": "[encoded data removed]",
      "text/plain": [
       "<Figure size 640x480 with 1 Axes>"
      ]
     },
     "metadata": {},
     "output_type": "display_data"
    }
   ],
   "source": [
    "plt.scatter(x=df[\"bedrooms\"], y=df[\"Price\"])\n",
    "plt.xlabel(\"Number of bedrooms [count]\")\n",
    "plt.ylabel(\"Price [NGN]\")\n",
    "plt.title(\"Lagos: Price [NGN] Vs. Bedrooms [count]\");"
   ]
  },
  {
   "cell_type": "markdown",
   "metadata": {},
   "source": [
    "The scatter suggests that there is a clustering of house prices at specific values for each number of bedrooms, creating vertical bands or columns in the plot. This could be caused by:\n",
    "\n",
    "- **Discrete Price Ranges:** Properties with the same number of bedrooms may have similar or identical prices, leading to clustering at those price points.\n",
    "\n",
    "- **Price Categories:** The market may have price categories or specific pricing structures that group homes with similar features (e.g., number of bedrooms) into distinct price ranges."
   ]
  },
  {
   "cell_type": "markdown",
   "metadata": {},
   "source": [
    "Let's check the correlation between house `prices` and `numbers of bedrooms`"
   ]
  },
  {
   "cell_type": "code",
   "execution_count": 58,
   "metadata": {},
   "outputs": [
    {
     "data": {
      "text/plain": [
       "0.31452659738248917"
      ]
     },
     "execution_count": 58,
     "metadata": {},
     "output_type": "execute_result"
    }
   ],
   "source": [
    "# Let's check the correlation\n",
    "df[\"Price\"].corr(df[\"bedrooms\"])"
   ]
  },
  {
   "cell_type": "markdown",
   "metadata": {},
   "source": [
    "> A correlation value of 0.314 between the number of `bedrooms` and house `prices` indicates a weak positive correlation. Here's what this means:\n",
    "\n",
    "**Interpretation:**\n",
    "- **Weak Positive Correlation:** The correlation coefficient is between 0.3 and 0.5, which indicates a weak but positive relationship between the two variables. As the number of bedrooms increases, house prices tend to increase slightly, but the relationship is not strong.\n",
    "\n",
    "    - A correlation of 0.314 suggests that number of bedrooms is a somewhat predictive factor for house prices, but there are likely other factors (e.g., property location, size, type, etc.) that play a more significant role in determining the price."
   ]
  },
  {
   "cell_type": "markdown",
   "metadata": {},
   "source": [
    "##### **Group By Property Type**\n",
    "\n",
    "Let's see if property type influence house price"
   ]
  },
  {
   "cell_type": "code",
   "execution_count": 59,
   "metadata": {},
   "outputs": [
    {
     "name": "stdout",
     "output_type": "stream",
     "text": [
      "type\n",
      "duplex    7.649430e+07\n",
      "flat      4.821986e+07\n",
      "Name: Price, dtype: float64\n"
     ]
    }
   ],
   "source": [
    "# Group by Property_Type and calculate mean price for each type\n",
    "property_type_price = df.groupby('type')['Price'].mean()\n",
    "print(property_type_price)"
   ]
  },
  {
   "cell_type": "markdown",
   "metadata": {},
   "source": [
    "**Interpretation:**\n",
    "\n",
    "- Duplex: The average price is approximately 76.5 million NGN.\n",
    "- Flat: The average price is approximately 48.2 million NGN.\n",
    "\n",
    "Duplex properties generally have higher average prices than flat properties in your dataset.\n",
    "The difference in average prices suggests that duplexes tend to be more expensive, which is typical, as duplex homes are usually larger or more luxurious compared to flats (apartments)."
   ]
  },
  {
   "cell_type": "markdown",
   "metadata": {},
   "source": [
    "##### Boxplot for Price by House Type:\n"
   ]
  },
  {
   "cell_type": "code",
   "execution_count": 60,
   "metadata": {},
   "outputs": [
    {
     "data": {
      "image/png": "[encoded data removed]",
      "text/plain": [
       "<Figure size 800x600 with 1 Axes>"
      ]
     },
     "metadata": {},
     "output_type": "display_data"
    }
   ],
   "source": [
    "# Create a boxplot to visualize price distribution by property type\n",
    "plt.figure(figsize=(8, 6))\n",
    "sns.boxplot(x='type', y='Price', data=df)\n",
    "plt.title('Price Distribution by Property Type')\n",
    "plt.show()"
   ]
  },
  {
   "cell_type": "markdown",
   "metadata": {},
   "source": [
    "**Insights:**\n",
    "- Duplexes tend to be priced higher than flats, with a wider spread of prices.\n",
    "- Flats have many high-price outliers, which might indicate a few very expensive flats skewing the data."
   ]
  },
  {
   "cell_type": "markdown",
   "metadata": {},
   "source": [
    "##### **Group By Neigbourhood:**"
   ]
  },
  {
   "cell_type": "code",
   "execution_count": 61,
   "metadata": {},
   "outputs": [
    {
     "data": {
      "text/plain": [
       "Neighboorhood\n",
       "Abule-Egba      3.402604e+07\n",
       "Agege           4.029412e+07\n",
       "Ajah            4.888797e+07\n",
       "Alapere         2.448077e+07\n",
       "Alimosho        3.786719e+07\n",
       "Amuwo-Odofin    5.923830e+07\n",
       "Apapa           4.416667e+07\n",
       "Badagry         2.250000e+07\n",
       "Bariga          5.709091e+07\n",
       "Ejigbo          2.835714e+07\n",
       "Epe             4.250000e+07\n",
       "Gbagada         6.131183e+07\n",
       "Ibeju-Lekki     3.182558e+07\n",
       "Idimu           3.127000e+07\n",
       "Ifako-Ijaiye    3.500000e+07\n",
       "Igando          3.108667e+07\n",
       "Ijora           7.500000e+07\n",
       "Ikeja           9.851341e+07\n",
       "Ikorodu         2.248102e+07\n",
       "Ikosi           6.312500e+07\n",
       "Name: Price, dtype: float64"
      ]
     },
     "execution_count": 61,
     "metadata": {},
     "output_type": "execute_result"
    }
   ],
   "source": [
    "# Group by Location and calculate mean price for each location\n",
    "neigbourhood_price = df.groupby('Neighboorhood')['Price'].mean()\n",
    "neigbourhood_price.head(20)"
   ]
  },
  {
   "cell_type": "markdown",
   "metadata": {},
   "source": [
    "> Let's sort the `neigbourhood_price` and get the top 15 neigbourhood with high housing market "
   ]
  },
  {
   "cell_type": "code",
   "execution_count": 62,
   "metadata": {},
   "outputs": [],
   "source": [
    "neigbourhood_price = neigbourhood_price.sort_values(ascending=False).head(15)"
   ]
  },
  {
   "cell_type": "code",
   "execution_count": 63,
   "metadata": {},
   "outputs": [
    {
     "data": {
      "image/png": "[encoded data removed]",
      "text/plain": [
       "<Figure size 1000x600 with 1 Axes>"
      ]
     },
     "metadata": {},
     "output_type": "display_data"
    }
   ],
   "source": [
    "plt.figure(figsize=(10, 6))\n",
    "sns.barplot(data=neigbourhood_price)\n",
    "plt.title('Average Price by Neighboorhood')\n",
    "plt.xticks(rotation=90)\n",
    "plt.show()"
   ]
  },
  {
   "cell_type": "markdown",
   "metadata": {},
   "source": [
    "> The above plot shows 15 high Lagos housing market neigbourhood with **IKOYI** as the highest\n"
   ]
  },
  {
   "cell_type": "markdown",
   "metadata": {},
   "source": [
    "## Split"
   ]
  },
  {
   "cell_type": "markdown",
   "metadata": {},
   "source": [
    "At this point, the feature matrix `X_train` and target vector `y_train` will be created. The target is `\"Price\"`. The features should be all the columns that remain in the DataFrame you cleaned above.you"
   ]
  },
  {
   "cell_type": "code",
   "execution_count": 64,
   "metadata": {},
   "outputs": [
    {
     "name": "stdout",
     "output_type": "stream",
     "text": [
      "(4773,)\n",
      "(4773, 3)\n"
     ]
    }
   ],
   "source": [
    "target = \"Price\"\n",
    "y = df[target]\n",
    "X = df.drop([target], axis=\"columns\")\n",
    "\n",
    "print(y.shape)\n",
    "print(X.shape)"
   ]
  },
  {
   "cell_type": "markdown",
   "metadata": {},
   "source": [
    " The data (X and y) need to be divided into training and test sets using a randomized train-test split. The test will should be 20% of the total data. And random_state will be set to 42 for reproducibility."
   ]
  },
  {
   "cell_type": "code",
   "execution_count": 65,
   "metadata": {},
   "outputs": [
    {
     "name": "stdout",
     "output_type": "stream",
     "text": [
      "X_train shape: (3818, 3)\n",
      "y_train shape: (3818,)\n",
      "X_test shape: (955, 3)\n",
      "y_test shape: (955,)\n"
     ]
    }
   ],
   "source": [
    "X_train, X_test, y_train, y_test = train_test_split(\n",
    "    X, y, test_size=0.2, random_state=42\n",
    ")\n",
    "\n",
    "print(\"X_train shape:\", X_train.shape)\n",
    "print(\"y_train shape:\", y_train.shape)\n",
    "print(\"X_test shape:\", X_test.shape)\n",
    "print(\"y_test shape:\", y_test.shape)"
   ]
  },
  {
   "cell_type": "markdown",
   "metadata": {},
   "source": [
    "# Build Model"
   ]
  },
  {
   "cell_type": "markdown",
   "metadata": {},
   "source": [
    "## Baseline"
   ]
  },
  {
   "cell_type": "code",
   "execution_count": 66,
   "metadata": {},
   "outputs": [],
   "source": [
    "y_mean = y_train.mean() \n",
    "y_pred_baseline = [y_mean] * len(y_train)"
   ]
  },
  {
   "cell_type": "code",
   "execution_count": 67,
   "metadata": {},
   "outputs": [
    {
     "name": "stdout",
     "output_type": "stream",
     "text": [
      "Mean apt price: 63266456.86432687\n",
      "Baseline MAE: 32493919.915718906\n"
     ]
    }
   ],
   "source": [
    "mae_baseline = mean_absolute_error(y_train, y_pred_baseline)\n",
    "\n",
    "print(\"Mean apt price:\", y_mean)\n",
    "\n",
    "print(\"Baseline MAE:\", mae_baseline)"
   ]
  },
  {
   "cell_type": "markdown",
   "metadata": {},
   "source": [
    "## Iterate"
   ]
  },
  {
   "cell_type": "markdown",
   "metadata": {},
   "source": [
    "The next step is to create a pipeline whcih will include **OneHotEncoder** for transforming no-numerical features and **LinerRegresssion** as predictor. Then fit the model to the training data."
   ]
  },
  {
   "cell_type": "code",
   "execution_count": 68,
   "metadata": {},
   "outputs": [
    {
     "data": {
      "text/html": [
       "<style>#sk-container-id-2 {\n",
       "  /* Definition of color scheme common for light and dark mode */\n",
       "  --sklearn-color-text: black;\n",
       "  --sklearn-color-line: gray;\n",
       "  /* Definition of color scheme for unfitted estimators */\n",
       "  --sklearn-color-unfitted-level-0: #fff5e6;\n",
       "  --sklearn-color-unfitted-level-1: #f6e4d2;\n",
       "  --sklearn-color-unfitted-level-2: #ffe0b3;\n",
       "  --sklearn-color-unfitted-level-3: chocolate;\n",
       "  /* Definition of color scheme for fitted estimators */\n",
       "  --sklearn-color-fitted-level-0: #f0f8ff;\n",
       "  --sklearn-color-fitted-level-1: #d4ebff;\n",
       "  --sklearn-color-fitted-level-2: #b3dbfd;\n",
       "  --sklearn-color-fitted-level-3: cornflowerblue;\n",
       "\n",
       "  /* Specific color for light theme */\n",
       "  --sklearn-color-text-on-default-background: var(--sg-text-color, var(--theme-code-foreground, var(--jp-content-font-color1, black)));\n",
       "  --sklearn-color-background: var(--sg-background-color, var(--theme-background, var(--jp-layout-color0, white)));\n",
       "  --sklearn-color-border-box: var(--sg-text-color, var(--theme-code-foreground, var(--jp-content-font-color1, black)));\n",
       "  --sklearn-color-icon: #696969;\n",
       "\n",
       "  @media (prefers-color-scheme: dark) {\n",
       "    /* Redefinition of color scheme for dark theme */\n",
       "    --sklearn-color-text-on-default-background: var(--sg-text-color, var(--theme-code-foreground, var(--jp-content-font-color1, white)));\n",
       "    --sklearn-color-background: var(--sg-background-color, var(--theme-background, var(--jp-layout-color0, #111)));\n",
       "    --sklearn-color-border-box: var(--sg-text-color, var(--theme-code-foreground, var(--jp-content-font-color1, white)));\n",
       "    --sklearn-color-icon: #878787;\n",
       "  }\n",
       "}\n",
       "\n",
       "#sk-container-id-2 {\n",
       "  color: var(--sklearn-color-text);\n",
       "}\n",
       "\n",
       "#sk-container-id-2 pre {\n",
       "  padding: 0;\n",
       "}\n",
       "\n",
       "#sk-container-id-2 input.sk-hidden--visually {\n",
       "  border: 0;\n",
       "  clip: rect(1px 1px 1px 1px);\n",
       "  clip: rect(1px, 1px, 1px, 1px);\n",
       "  height: 1px;\n",
       "  margin: -1px;\n",
       "  overflow: hidden;\n",
       "  padding: 0;\n",
       "  position: absolute;\n",
       "  width: 1px;\n",
       "}\n",
       "\n",
       "#sk-container-id-2 div.sk-dashed-wrapped {\n",
       "  border: 1px dashed var(--sklearn-color-line);\n",
       "  margin: 0 0.4em 0.5em 0.4em;\n",
       "  box-sizing: border-box;\n",
       "  padding-bottom: 0.4em;\n",
       "  background-color: var(--sklearn-color-background);\n",
       "}\n",
       "\n",
       "#sk-container-id-2 div.sk-container {\n",
       "  /* jupyter's `normalize.less` sets `[hidden] { display: none; }`\n",
       "     but bootstrap.min.css set `[hidden] { display: none !important; }`\n",
       "     so we also need the `!important` here to be able to override the\n",
       "     default hidden behavior on the sphinx rendered scikit-learn.org.\n",
       "     See: https://github.com/scikit-learn/scikit-learn/issues/21755 */\n",
       "  display: inline-block !important;\n",
       "  position: relative;\n",
       "}\n",
       "\n",
       "#sk-container-id-2 div.sk-text-repr-fallback {\n",
       "  display: none;\n",
       "}\n",
       "\n",
       "div.sk-parallel-item,\n",
       "div.sk-serial,\n",
       "div.sk-item {\n",
       "  /* draw centered vertical line to link estimators */\n",
       "  background-image: linear-gradient(var(--sklearn-color-text-on-default-background), var(--sklearn-color-text-on-default-background));\n",
       "  background-size: 2px 100%;\n",
       "  background-repeat: no-repeat;\n",
       "  background-position: center center;\n",
       "}\n",
       "\n",
       "/* Parallel-specific style estimator block */\n",
       "\n",
       "#sk-container-id-2 div.sk-parallel-item::after {\n",
       "  content: \"\";\n",
       "  width: 100%;\n",
       "  border-bottom: 2px solid var(--sklearn-color-text-on-default-background);\n",
       "  flex-grow: 1;\n",
       "}\n",
       "\n",
       "#sk-container-id-2 div.sk-parallel {\n",
       "  display: flex;\n",
       "  align-items: stretch;\n",
       "  justify-content: center;\n",
       "  background-color: var(--sklearn-color-background);\n",
       "  position: relative;\n",
       "}\n",
       "\n",
       "#sk-container-id-2 div.sk-parallel-item {\n",
       "  display: flex;\n",
       "  flex-direction: column;\n",
       "}\n",
       "\n",
       "#sk-container-id-2 div.sk-parallel-item:first-child::after {\n",
       "  align-self: flex-end;\n",
       "  width: 50%;\n",
       "}\n",
       "\n",
       "#sk-container-id-2 div.sk-parallel-item:last-child::after {\n",
       "  align-self: flex-start;\n",
       "  width: 50%;\n",
       "}\n",
       "\n",
       "#sk-container-id-2 div.sk-parallel-item:only-child::after {\n",
       "  width: 0;\n",
       "}\n",
       "\n",
       "/* Serial-specific style estimator block */\n",
       "\n",
       "#sk-container-id-2 div.sk-serial {\n",
       "  display: flex;\n",
       "  flex-direction: column;\n",
       "  align-items: center;\n",
       "  background-color: var(--sklearn-color-background);\n",
       "  padding-right: 1em;\n",
       "  padding-left: 1em;\n",
       "}\n",
       "\n",
       "\n",
       "/* Toggleable style: style used for estimator/Pipeline/ColumnTransformer box that is\n",
       "clickable and can be expanded/collapsed.\n",
       "- Pipeline and ColumnTransformer use this feature and define the default style\n",
       "- Estimators will overwrite some part of the style using the `sk-estimator` class\n",
       "*/\n",
       "\n",
       "/* Pipeline and ColumnTransformer style (default) */\n",
       "\n",
       "#sk-container-id-2 div.sk-toggleable {\n",
       "  /* Default theme specific background. It is overwritten whether we have a\n",
       "  specific estimator or a Pipeline/ColumnTransformer */\n",
       "  background-color: var(--sklearn-color-background);\n",
       "}\n",
       "\n",
       "/* Toggleable label */\n",
       "#sk-container-id-2 label.sk-toggleable__label {\n",
       "  cursor: pointer;\n",
       "  display: block;\n",
       "  width: 100%;\n",
       "  margin-bottom: 0;\n",
       "  padding: 0.5em;\n",
       "  box-sizing: border-box;\n",
       "  text-align: center;\n",
       "}\n",
       "\n",
       "#sk-container-id-2 label.sk-toggleable__label-arrow:before {\n",
       "  /* Arrow on the left of the label */\n",
       "  content: \"▸\";\n",
       "  float: left;\n",
       "  margin-right: 0.25em;\n",
       "  color: var(--sklearn-color-icon);\n",
       "}\n",
       "\n",
       "#sk-container-id-2 label.sk-toggleable__label-arrow:hover:before {\n",
       "  color: var(--sklearn-color-text);\n",
       "}\n",
       "\n",
       "/* Toggleable content - dropdown */\n",
       "\n",
       "#sk-container-id-2 div.sk-toggleable__content {\n",
       "  max-height: 0;\n",
       "  max-width: 0;\n",
       "  overflow: hidden;\n",
       "  text-align: left;\n",
       "  /* unfitted */\n",
       "  background-color: var(--sklearn-color-unfitted-level-0);\n",
       "}\n",
       "\n",
       "#sk-container-id-2 div.sk-toggleable__content.fitted {\n",
       "  /* fitted */\n",
       "  background-color: var(--sklearn-color-fitted-level-0);\n",
       "}\n",
       "\n",
       "#sk-container-id-2 div.sk-toggleable__content pre {\n",
       "  margin: 0.2em;\n",
       "  border-radius: 0.25em;\n",
       "  color: var(--sklearn-color-text);\n",
       "  /* unfitted */\n",
       "  background-color: var(--sklearn-color-unfitted-level-0);\n",
       "}\n",
       "\n",
       "#sk-container-id-2 div.sk-toggleable__content.fitted pre {\n",
       "  /* unfitted */\n",
       "  background-color: var(--sklearn-color-fitted-level-0);\n",
       "}\n",
       "\n",
       "#sk-container-id-2 input.sk-toggleable__control:checked~div.sk-toggleable__content {\n",
       "  /* Expand drop-down */\n",
       "  max-height: 200px;\n",
       "  max-width: 100%;\n",
       "  overflow: auto;\n",
       "}\n",
       "\n",
       "#sk-container-id-2 input.sk-toggleable__control:checked~label.sk-toggleable__label-arrow:before {\n",
       "  content: \"▾\";\n",
       "}\n",
       "\n",
       "/* Pipeline/ColumnTransformer-specific style */\n",
       "\n",
       "#sk-container-id-2 div.sk-label input.sk-toggleable__control:checked~label.sk-toggleable__label {\n",
       "  color: var(--sklearn-color-text);\n",
       "  background-color: var(--sklearn-color-unfitted-level-2);\n",
       "}\n",
       "\n",
       "#sk-container-id-2 div.sk-label.fitted input.sk-toggleable__control:checked~label.sk-toggleable__label {\n",
       "  background-color: var(--sklearn-color-fitted-level-2);\n",
       "}\n",
       "\n",
       "/* Estimator-specific style */\n",
       "\n",
       "/* Colorize estimator box */\n",
       "#sk-container-id-2 div.sk-estimator input.sk-toggleable__control:checked~label.sk-toggleable__label {\n",
       "  /* unfitted */\n",
       "  background-color: var(--sklearn-color-unfitted-level-2);\n",
       "}\n",
       "\n",
       "#sk-container-id-2 div.sk-estimator.fitted input.sk-toggleable__control:checked~label.sk-toggleable__label {\n",
       "  /* fitted */\n",
       "  background-color: var(--sklearn-color-fitted-level-2);\n",
       "}\n",
       "\n",
       "#sk-container-id-2 div.sk-label label.sk-toggleable__label,\n",
       "#sk-container-id-2 div.sk-label label {\n",
       "  /* The background is the default theme color */\n",
       "  color: var(--sklearn-color-text-on-default-background);\n",
       "}\n",
       "\n",
       "/* On hover, darken the color of the background */\n",
       "#sk-container-id-2 div.sk-label:hover label.sk-toggleable__label {\n",
       "  color: var(--sklearn-color-text);\n",
       "  background-color: var(--sklearn-color-unfitted-level-2);\n",
       "}\n",
       "\n",
       "/* Label box, darken color on hover, fitted */\n",
       "#sk-container-id-2 div.sk-label.fitted:hover label.sk-toggleable__label.fitted {\n",
       "  color: var(--sklearn-color-text);\n",
       "  background-color: var(--sklearn-color-fitted-level-2);\n",
       "}\n",
       "\n",
       "/* Estimator label */\n",
       "\n",
       "#sk-container-id-2 div.sk-label label {\n",
       "  font-family: monospace;\n",
       "  font-weight: bold;\n",
       "  display: inline-block;\n",
       "  line-height: 1.2em;\n",
       "}\n",
       "\n",
       "#sk-container-id-2 div.sk-label-container {\n",
       "  text-align: center;\n",
       "}\n",
       "\n",
       "/* Estimator-specific */\n",
       "#sk-container-id-2 div.sk-estimator {\n",
       "  font-family: monospace;\n",
       "  border: 1px dotted var(--sklearn-color-border-box);\n",
       "  border-radius: 0.25em;\n",
       "  box-sizing: border-box;\n",
       "  margin-bottom: 0.5em;\n",
       "  /* unfitted */\n",
       "  background-color: var(--sklearn-color-unfitted-level-0);\n",
       "}\n",
       "\n",
       "#sk-container-id-2 div.sk-estimator.fitted {\n",
       "  /* fitted */\n",
       "  background-color: var(--sklearn-color-fitted-level-0);\n",
       "}\n",
       "\n",
       "/* on hover */\n",
       "#sk-container-id-2 div.sk-estimator:hover {\n",
       "  /* unfitted */\n",
       "  background-color: var(--sklearn-color-unfitted-level-2);\n",
       "}\n",
       "\n",
       "#sk-container-id-2 div.sk-estimator.fitted:hover {\n",
       "  /* fitted */\n",
       "  background-color: var(--sklearn-color-fitted-level-2);\n",
       "}\n",
       "\n",
       "/* Specification for estimator info (e.g. \"i\" and \"?\") */\n",
       "\n",
       "/* Common style for \"i\" and \"?\" */\n",
       "\n",
       ".sk-estimator-doc-link,\n",
       "a:link.sk-estimator-doc-link,\n",
       "a:visited.sk-estimator-doc-link {\n",
       "  float: right;\n",
       "  font-size: smaller;\n",
       "  line-height: 1em;\n",
       "  font-family: monospace;\n",
       "  background-color: var(--sklearn-color-background);\n",
       "  border-radius: 1em;\n",
       "  height: 1em;\n",
       "  width: 1em;\n",
       "  text-decoration: none !important;\n",
       "  margin-left: 1ex;\n",
       "  /* unfitted */\n",
       "  border: var(--sklearn-color-unfitted-level-1) 1pt solid;\n",
       "  color: var(--sklearn-color-unfitted-level-1);\n",
       "}\n",
       "\n",
       ".sk-estimator-doc-link.fitted,\n",
       "a:link.sk-estimator-doc-link.fitted,\n",
       "a:visited.sk-estimator-doc-link.fitted {\n",
       "  /* fitted */\n",
       "  border: var(--sklearn-color-fitted-level-1) 1pt solid;\n",
       "  color: var(--sklearn-color-fitted-level-1);\n",
       "}\n",
       "\n",
       "/* On hover */\n",
       "div.sk-estimator:hover .sk-estimator-doc-link:hover,\n",
       ".sk-estimator-doc-link:hover,\n",
       "div.sk-label-container:hover .sk-estimator-doc-link:hover,\n",
       ".sk-estimator-doc-link:hover {\n",
       "  /* unfitted */\n",
       "  background-color: var(--sklearn-color-unfitted-level-3);\n",
       "  color: var(--sklearn-color-background);\n",
       "  text-decoration: none;\n",
       "}\n",
       "\n",
       "div.sk-estimator.fitted:hover .sk-estimator-doc-link.fitted:hover,\n",
       ".sk-estimator-doc-link.fitted:hover,\n",
       "div.sk-label-container:hover .sk-estimator-doc-link.fitted:hover,\n",
       ".sk-estimator-doc-link.fitted:hover {\n",
       "  /* fitted */\n",
       "  background-color: var(--sklearn-color-fitted-level-3);\n",
       "  color: var(--sklearn-color-background);\n",
       "  text-decoration: none;\n",
       "}\n",
       "\n",
       "/* Span, style for the box shown on hovering the info icon */\n",
       ".sk-estimator-doc-link span {\n",
       "  display: none;\n",
       "  z-index: 9999;\n",
       "  position: relative;\n",
       "  font-weight: normal;\n",
       "  right: .2ex;\n",
       "  padding: .5ex;\n",
       "  margin: .5ex;\n",
       "  width: min-content;\n",
       "  min-width: 20ex;\n",
       "  max-width: 50ex;\n",
       "  color: var(--sklearn-color-text);\n",
       "  box-shadow: 2pt 2pt 4pt #999;\n",
       "  /* unfitted */\n",
       "  background: var(--sklearn-color-unfitted-level-0);\n",
       "  border: .5pt solid var(--sklearn-color-unfitted-level-3);\n",
       "}\n",
       "\n",
       ".sk-estimator-doc-link.fitted span {\n",
       "  /* fitted */\n",
       "  background: var(--sklearn-color-fitted-level-0);\n",
       "  border: var(--sklearn-color-fitted-level-3);\n",
       "}\n",
       "\n",
       ".sk-estimator-doc-link:hover span {\n",
       "  display: block;\n",
       "}\n",
       "\n",
       "/* \"?\"-specific style due to the `<a>` HTML tag */\n",
       "\n",
       "#sk-container-id-2 a.estimator_doc_link {\n",
       "  float: right;\n",
       "  font-size: 1rem;\n",
       "  line-height: 1em;\n",
       "  font-family: monospace;\n",
       "  background-color: var(--sklearn-color-background);\n",
       "  border-radius: 1rem;\n",
       "  height: 1rem;\n",
       "  width: 1rem;\n",
       "  text-decoration: none;\n",
       "  /* unfitted */\n",
       "  color: var(--sklearn-color-unfitted-level-1);\n",
       "  border: var(--sklearn-color-unfitted-level-1) 1pt solid;\n",
       "}\n",
       "\n",
       "#sk-container-id-2 a.estimator_doc_link.fitted {\n",
       "  /* fitted */\n",
       "  border: var(--sklearn-color-fitted-level-1) 1pt solid;\n",
       "  color: var(--sklearn-color-fitted-level-1);\n",
       "}\n",
       "\n",
       "/* On hover */\n",
       "#sk-container-id-2 a.estimator_doc_link:hover {\n",
       "  /* unfitted */\n",
       "  background-color: var(--sklearn-color-unfitted-level-3);\n",
       "  color: var(--sklearn-color-background);\n",
       "  text-decoration: none;\n",
       "}\n",
       "\n",
       "#sk-container-id-2 a.estimator_doc_link.fitted:hover {\n",
       "  /* fitted */\n",
       "  background-color: var(--sklearn-color-fitted-level-3);\n",
       "}\n",
       "</style><div id=\"sk-container-id-2\" class=\"sk-top-container\"><div class=\"sk-text-repr-fallback\"><pre>Pipeline(steps=[(&#x27;onehotencoder&#x27;,\n",
       "                 OneHotEncoder(cols=[&#x27;Neighboorhood&#x27;, &#x27;type&#x27;],\n",
       "                               use_cat_names=True)),\n",
       "                (&#x27;ridge&#x27;, Ridge())])</pre><b>In a Jupyter environment, please rerun this cell to show the HTML representation or trust the notebook. <br />On GitHub, the HTML representation is unable to render, please try loading this page with nbviewer.org.</b></div><div class=\"sk-container\" hidden><div class=\"sk-item sk-dashed-wrapped\"><div class=\"sk-label-container\"><div class=\"sk-label fitted sk-toggleable\"><input class=\"sk-toggleable__control sk-hidden--visually\" id=\"sk-estimator-id-4\" type=\"checkbox\" ><label for=\"sk-estimator-id-4\" class=\"sk-toggleable__label fitted sk-toggleable__label-arrow fitted\">&nbsp;&nbsp;Pipeline<a class=\"sk-estimator-doc-link fitted\" rel=\"noreferrer\" target=\"_blank\" href=\"https://scikit-learn.org/1.4/modules/generated/sklearn.pipeline.Pipeline.html\">?<span>Documentation for Pipeline</span></a><span class=\"sk-estimator-doc-link fitted\">i<span>Fitted</span></span></label><div class=\"sk-toggleable__content fitted\"><pre>Pipeline(steps=[(&#x27;onehotencoder&#x27;,\n",
       "                 OneHotEncoder(cols=[&#x27;Neighboorhood&#x27;, &#x27;type&#x27;],\n",
       "                               use_cat_names=True)),\n",
       "                (&#x27;ridge&#x27;, Ridge())])</pre></div> </div></div><div class=\"sk-serial\"><div class=\"sk-item\"><div class=\"sk-estimator fitted sk-toggleable\"><input class=\"sk-toggleable__control sk-hidden--visually\" id=\"sk-estimator-id-5\" type=\"checkbox\" ><label for=\"sk-estimator-id-5\" class=\"sk-toggleable__label fitted sk-toggleable__label-arrow fitted\">OneHotEncoder</label><div class=\"sk-toggleable__content fitted\"><pre>OneHotEncoder(cols=[&#x27;Neighboorhood&#x27;, &#x27;type&#x27;], use_cat_names=True)</pre></div> </div></div><div class=\"sk-item\"><div class=\"sk-estimator fitted sk-toggleable\"><input class=\"sk-toggleable__control sk-hidden--visually\" id=\"sk-estimator-id-6\" type=\"checkbox\" ><label for=\"sk-estimator-id-6\" class=\"sk-toggleable__label fitted sk-toggleable__label-arrow fitted\">&nbsp;Ridge<a class=\"sk-estimator-doc-link fitted\" rel=\"noreferrer\" target=\"_blank\" href=\"https://scikit-learn.org/1.4/modules/generated/sklearn.linear_model.Ridge.html\">?<span>Documentation for Ridge</span></a></label><div class=\"sk-toggleable__content fitted\"><pre>Ridge()</pre></div> </div></div></div></div></div></div>"
      ],
      "text/plain": [
       "Pipeline(steps=[('onehotencoder',\n",
       "                 OneHotEncoder(cols=['Neighboorhood', 'type'],\n",
       "                               use_cat_names=True)),\n",
       "                ('ridge', Ridge())])"
      ]
     },
     "execution_count": 68,
     "metadata": {},
     "output_type": "execute_result"
    }
   ],
   "source": [
    "model = make_pipeline(\n",
    "    OneHotEncoder(use_cat_names=True),\n",
    "    Ridge()\n",
    ")\n",
    "\n",
    "model.fit(X_train, y_train)"
   ]
  },
  {
   "cell_type": "code",
   "execution_count": 69,
   "metadata": {},
   "outputs": [],
   "source": [
    "# Check your work\n",
    "check_is_fitted(model[-1])# Check your work"
   ]
  },
  {
   "cell_type": "markdown",
   "metadata": {},
   "source": [
    "Wow, a model with transformer and a predictor has just been built! 😁"
   ]
  },
  {
   "cell_type": "markdown",
   "metadata": {},
   "source": [
    "Calculating the training mean absolute error for the predictions as compared to the true targets in `y_train`."
   ]
  },
  {
   "cell_type": "code",
   "execution_count": 70,
   "metadata": {},
   "outputs": [
    {
     "name": "stdout",
     "output_type": "stream",
     "text": [
      "Training MAE:  23202600.67\n"
     ]
    }
   ],
   "source": [
    "y_pred_training = model.predict(X_train)\n",
    "mean_training = mean_absolute_error(y_train, y_pred_training)\n",
    "\n",
    "print(\"Training MAE: \", round(mean_training, 2))"
   ]
  },
  {
   "cell_type": "markdown",
   "metadata": {},
   "source": [
    "<div class=\"alert alert-block alert-success\">\n",
    "Good news: Our model beat the baseline by over ₦10,000,000! That's a good indicator that it will be helpful in predicting housing price. But the real test is how the model performs on data that it hasn't seen before, data that we call the <b>test set</b>. Let see how the model will perform with the test set. \n",
    "</div>"
   ]
  },
  {
   "cell_type": "markdown",
   "metadata": {},
   "source": [
    "## Evaluate"
   ]
  },
  {
   "cell_type": "code",
   "execution_count": 71,
   "metadata": {},
   "outputs": [
    {
     "data": {
      "text/plain": [
       "0    4.334217e+07\n",
       "1    5.010920e+07\n",
       "2    1.419452e+08\n",
       "3    7.350242e+07\n",
       "4    1.899021e+07\n",
       "dtype: float64"
      ]
     },
     "execution_count": 71,
     "metadata": {},
     "output_type": "execute_result"
    }
   ],
   "source": [
    "y_pred_test = pd.Series(model.predict(X_test))\n",
    "y_pred_test.head()"
   ]
  },
  {
   "cell_type": "markdown",
   "metadata": {},
   "source": [
    "# Communicate Results"
   ]
  },
  {
   "cell_type": "markdown",
   "metadata": {},
   "source": [
    "The model is now built and tested, it's time to share it with others. If you're presenting to simple linear model to a technical audience, they might appreciate an equation. When we created our baseline model, we represented it as a line. The equation for a line like this is usually written as:"
   ]
  },
  {
   "cell_type": "markdown",
   "metadata": {},
   "source": [
    "Extract the intercept and coefficients for your model. "
   ]
  },
  {
   "cell_type": "code",
   "execution_count": 72,
   "metadata": {},
   "outputs": [
    {
     "name": "stdout",
     "output_type": "stream",
     "text": [
      "24108183.0\n"
     ]
    },
    {
     "data": {
      "text/plain": [
       "array([ 23520691.,  -5799637.,  10519056.,  -6301059.,  34370943.,\n",
       "       -26562099.,  80110577., -28723139.,  -7617318., -16791758.,\n",
       "        25840257.,   3752029.,  37402718.,    919295., -30051268.,\n",
       "         8067666.,  -3091306., -29669677., -18478929.,   4941176.,\n",
       "        21579641.,   4066547., -34301000.,  -6144910., -12364620.,\n",
       "        19128465.,  41767579.,  20285123.,  -6899626., -28087844.,\n",
       "       -30580008., -12998721., -10176567.,   1844013., -21809422.,\n",
       "        -5201936.,   8776889.,  -9610406.,  -7141603.,  11510187.,\n",
       "         7601206.,   7321660.,  -7321660.])"
      ]
     },
     "execution_count": 72,
     "metadata": {},
     "output_type": "execute_result"
    }
   ],
   "source": [
    "intercept = model.named_steps[\"ridge\"].intercept_.round()\n",
    "coefficients = model.named_steps[\"ridge\"].coef_.round()\n",
    "\n",
    "\n",
    "print(intercept)\n",
    "coefficients"
   ]
  },
  {
   "cell_type": "markdown",
   "metadata": {},
   "source": [
    "Le't wrap the model in a function so that a developer can provide inputs and then receive a prediction as output. "
   ]
  },
  {
   "cell_type": "markdown",
   "metadata": {},
   "source": [
    "The function will be named `make_prediction` and will take four arguments (`type`, `bedrooms`, and `neighborhood`) and returns your model's prediction for an house price."
   ]
  },
  {
   "cell_type": "code",
   "execution_count": 73,
   "metadata": {},
   "outputs": [
    {
     "data": {
      "text/plain": [
       "Index(['Price', 'Neighboorhood', 'bedrooms', 'type'], dtype='object')"
      ]
     },
     "execution_count": 73,
     "metadata": {},
     "output_type": "execute_result"
    }
   ],
   "source": [
    "df.columns"
   ]
  },
  {
   "cell_type": "code",
   "execution_count": 74,
   "metadata": {},
   "outputs": [],
   "source": [
    "def make_prediction(neigbourhood: str, bedrooms: int, type: str):\n",
    "    data = pd.DataFrame({\n",
    "            \"Neighboorhood\" : neigbourhood,\n",
    "            \"bedrooms\" : bedrooms,\n",
    "            \"type\" : type,\n",
    "        }, index = [0])\n",
    "    prediction = model.predict(data)\n",
    "    return f\"₦{round(prediction[0]):,}\""
   ]
  },
  {
   "cell_type": "markdown",
   "metadata": {},
   "source": [
    "Let's test the function"
   ]
  },
  {
   "cell_type": "code",
   "execution_count": 75,
   "metadata": {},
   "outputs": [
    {
     "data": {
      "text/plain": [
       "'₦141,945,244'"
      ]
     },
     "execution_count": 75,
     "metadata": {},
     "output_type": "execute_result"
    }
   ],
   "source": [
    "make_prediction(neigbourhood=\"Ikoyi\", bedrooms=4, type=\"duplex\")"
   ]
  },
  {
   "cell_type": "markdown",
   "metadata": {},
   "source": [
    "> Below is an interactive dashboard created using [Jupyter Widgets], where a user can supply values and receive a prediction."
   ]
  },
  {
   "cell_type": "code",
   "execution_count": 84,
   "metadata": {},
   "outputs": [
    {
     "data": {
      "application/vnd.jupyter.widget-view+json": {
       "model_id": "c4bf94ef421a4ae0a6a5b6932b41aa14",
       "version_major": 2,
       "version_minor": 0
      },
      "text/plain": [
       "HTML(value=\"<h1 style='text-align:left; font-size:32px;'>Lagos Housing Price Predictor</h1>\")"
      ]
     },
     "metadata": {},
     "output_type": "display_data"
    },
    {
     "data": {
      "application/vnd.jupyter.widget-view+json": {
       "model_id": "e983a81c15e94cf1ada3a56619671859",
       "version_major": 2,
       "version_minor": 0
      },
      "text/plain": [
       "RadioButtons(description='Property Type:', layout=Layout(width='50%'), options={'Flat': 'flat', 'Duplex': 'dup…"
      ]
     },
     "metadata": {},
     "output_type": "display_data"
    },
    {
     "data": {
      "application/vnd.jupyter.widget-view+json": {
       "model_id": "e2ec8e2e770d44ca9f7783b0789b1921",
       "version_major": 2,
       "version_minor": 0
      },
      "text/plain": [
       "HTML(value='<br>')"
      ]
     },
     "metadata": {},
     "output_type": "display_data"
    },
    {
     "data": {
      "application/vnd.jupyter.widget-view+json": {
       "model_id": "3550ce9303454d37b82db18b3a61f447",
       "version_major": 2,
       "version_minor": 0
      },
      "text/plain": [
       "Dropdown(description='Neighborhood:', index=19, layout=Layout(width='50%'), options=('Abule-Egba', 'Agege', 'A…"
      ]
     },
     "metadata": {},
     "output_type": "display_data"
    },
    {
     "data": {
      "application/vnd.jupyter.widget-view+json": {
       "model_id": "f00ea9b44c414b17862ee2d1652c503a",
       "version_major": 2,
       "version_minor": 0
      },
      "text/plain": [
       "HTML(value='<br>')"
      ]
     },
     "metadata": {},
     "output_type": "display_data"
    },
    {
     "data": {
      "application/vnd.jupyter.widget-view+json": {
       "model_id": "dbcb2d2039d64003b3b9d642e51aa4f5",
       "version_major": 2,
       "version_minor": 0
      },
      "text/plain": [
       "IntSlider(value=3, description='Bedrooms:', layout=Layout(width='50%'), max=20, min=1, style=SliderStyle(descr…"
      ]
     },
     "metadata": {},
     "output_type": "display_data"
    },
    {
     "data": {
      "application/vnd.jupyter.widget-view+json": {
       "model_id": "cfa6fc281ac5425092439aaa36383f42",
       "version_major": 2,
       "version_minor": 0
      },
      "text/plain": [
       "HTML(value='<br>')"
      ]
     },
     "metadata": {},
     "output_type": "display_data"
    },
    {
     "data": {
      "application/vnd.jupyter.widget-view+json": {
       "model_id": "3c2db13ef2064618b69dec895a7bfc47",
       "version_major": 2,
       "version_minor": 0
      },
      "text/plain": [
       "Text(value='', description='House Price Prediction:', layout=Layout(width='50%'), style=TextStyle(description_…"
      ]
     },
     "metadata": {},
     "output_type": "display_data"
    },
    {
     "data": {
      "application/vnd.jupyter.widget-view+json": {
       "model_id": "c9cad9b606624999b247b5363616180f",
       "version_major": 2,
       "version_minor": 0
      },
      "text/plain": [
       "HTML(value='<br>')"
      ]
     },
     "metadata": {},
     "output_type": "display_data"
    }
   ],
   "source": [
    "# Title for the application\n",
    "title = widgets.HTML(\n",
    "    value=\"<h1 style='text-align:left; font-size:32px;'>Lagos Housing Price Predictor</h1>\"\n",
    ")\n",
    "\n",
    "# Radio Buttons for Property Type\n",
    "property_type_radio = widgets.RadioButtons(\n",
    "    options={'Flat' : 'flat', 'Duplex' : 'duplex'},\n",
    "    value='flat',  # Default selection\n",
    "    description='Property Type:',\n",
    "    style={'description_width': 'initial'},  # Aligns description properly\n",
    "    layout=widgets.Layout(width='50%')\n",
    ")\n",
    "\n",
    "# Dropdown for Neighborhood\n",
    "neighborhood_dropdown = widgets.Dropdown(\n",
    "    options=sorted(X_train[\"Neighboorhood\"].unique()),\n",
    "    value='Ikoyi',  # Default selection\n",
    "    description='Neighborhood:',\n",
    "    style={'description_width': 'initial'},\n",
    "    layout=widgets.Layout(width='50%')\n",
    ")\n",
    "\n",
    "# Slider for Number of Bedrooms\n",
    "bedroom_slider = widgets.IntSlider(\n",
    "    value=3,  # Default selection\n",
    "    min=1,\n",
    "    max=20,\n",
    "    step=1,\n",
    "    description='Bedrooms:',\n",
    "    style={'description_width': 'initial'},\n",
    "    layout=widgets.Layout(width='50%')\n",
    ")\n",
    "\n",
    "# Ouput\n",
    "text_output = widgets.Text(\n",
    "    value='',\n",
    "    description='House Price Prediction:',\n",
    "    disabled=False,\n",
    "    style={'description_width': 'initial'},\n",
    "    layout=widgets.Layout(width='50%')\n",
    ")\n",
    "\n",
    "# Function to update the output based on widget changes\n",
    "def update_values(change):\n",
    "    # Get current values from widgets\n",
    "    neighborhood = neighborhood_dropdown.value\n",
    "    bedrooms = bedroom_slider.value\n",
    "    property_type = property_type_radio.value\n",
    "\n",
    "    # Call the make_prediction function and display the predicted price\n",
    "    predicted_price = make_prediction(neighborhood, bedrooms, property_type)\n",
    "    text_output.value = predicted_price\n",
    "    # with output:\n",
    "    #     print(f\"Property Type: {property_type_radio.value}\")\n",
    "    #     print(f\"Neighborhood: {neighborhood_dropdown.value}\")\n",
    "    #     print(f\"Bedrooms: {bedroom_slider.value}\")\n",
    "\n",
    "\n",
    "# Observe changes in the widgets and update the output\n",
    "property_type_radio.observe(update_values, names='value')\n",
    "neighborhood_dropdown.observe(update_values, names='value')\n",
    "bedroom_slider.observe(update_values, names='value')\n",
    "\n",
    "\n",
    "# Real-time value output widget\n",
    "# output = widgets.Output()\n",
    "\n",
    "# Display Widgets\n",
    "display(title)\n",
    "display(property_type_radio)\n",
    "display(widgets.HTML(\"<br>\"))\n",
    "display(neighborhood_dropdown)\n",
    "display(widgets.HTML(\"<br>\"))\n",
    "display(bedroom_slider)\n",
    "display(widgets.HTML(\"<br>\"))\n",
    "display(text_output)\n",
    "display(widgets.HTML(\"<br>\"))\n",
    "update_values(\"\")\n",
    "\n"
   ]
  }
 ],
 "metadata": {
  "kernelspec": {
   "display_name": "base",
   "language": "python",
   "name": "python3"
  },
  "language_info": {
   "codemirror_mode": {
    "name": "ipython",
    "version": 3
   },
   "file_extension": ".py",
   "mimetype": "text/x-python",
   "name": "python",
   "nbconvert_exporter": "python",
   "pygments_lexer": "ipython3",
   "version": "3.12.4"
  }
 },
 "nbformat": 4,
 "nbformat_minor": 2
}
